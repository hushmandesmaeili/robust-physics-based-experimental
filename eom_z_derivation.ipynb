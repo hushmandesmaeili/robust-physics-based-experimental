{
 "cells": [
  {
   "cell_type": "code",
   "execution_count": 1,
   "id": "b74a4cec",
   "metadata": {},
   "outputs": [
    {
     "data": {
      "text/latex": [
       "$\\displaystyle \\frac{1}{2} \\cdot \\sqrt{x^2 + y^2}$"
      ],
      "text/plain": [
       "<IPython.core.display.Math object>"
      ]
     },
     "metadata": {},
     "output_type": "display_data"
    }
   ],
   "source": [
    "from IPython.display import display, Math\n",
    "\n",
    "# LaTeX expression\n",
    "latex_expression = r'\\frac{1}{2} \\cdot \\sqrt{x^2 + y^2}'\n",
    "\n",
    "# Display LaTeX expression\n",
    "display(Math(latex_expression))\n"
   ]
  },
  {
   "cell_type": "code",
   "execution_count": 28,
   "id": "adaff40a",
   "metadata": {},
   "outputs": [
    {
     "data": {
      "text/latex": [
       "$\\displaystyle m \\frac{d^{2}}{d t^{2}} z{\\left(t \\right)} = - g m + k \\left(r_{0} - z{\\left(t \\right)} + \\frac{t \\left(- r_{0} + r_{T}\\right)}{T}\\right)$"
      ],
      "text/plain": [
       "Eq(m*Derivative(z(t), (t, 2)), -g*m + k*(r_0 - z(t) + t*(-r_0 + r_T)/T))"
      ]
     },
     "metadata": {},
     "output_type": "display_data"
    },
    {
     "data": {
      "text/latex": [
       "$\\displaystyle \\begin{equation}z{\\left(t \\right)} = - \\frac{g m}{k} + r_{0} + \\left(\\frac{g m}{2 k} - \\frac{r_{0}}{2} + \\frac{z_{0}}{2} + \\frac{\\dot{z}_{0}}{2 \\sqrt{- \\frac{k}{m}}} + \\frac{r_{0}}{2 T \\sqrt{- \\frac{k}{m}}} - \\frac{r_{T}}{2 T \\sqrt{- \\frac{k}{m}}}\\right) e^{t \\sqrt{- \\frac{k}{m}}} + \\left(\\frac{g m}{2 k} - \\frac{r_{0}}{2} + \\frac{z_{0}}{2} + \\frac{m \\dot{z}_{0} \\sqrt{- \\frac{k}{m}}}{2 k} + \\frac{m r_{0} \\sqrt{- \\frac{k}{m}}}{2 T k} - \\frac{m r_{T} \\sqrt{- \\frac{k}{m}}}{2 T k}\\right) e^{- t \\sqrt{- \\frac{k}{m}}} - \\frac{r_{0} t}{T} + \\frac{r_{T} t}{T}\\end{equation}$"
      ],
      "text/plain": [
       "<IPython.core.display.Math object>"
      ]
     },
     "metadata": {},
     "output_type": "display_data"
    }
   ],
   "source": [
    "from sympy import Function, dsolve, Eq, Derivative, symbols, latex, sqrt, collect, simplify\n",
    "\n",
    "# Define the variables and functions\n",
    "t, T, r_T, r_0, k, m, g, z0, zdot0 = symbols('t T r_T r_0 k m g z0 zdot0')\n",
    "z = Function('z')\n",
    "r = (t * (r_T - r_0) / T) + r_0\n",
    "\n",
    "# Define the differential equation\n",
    "ode = Eq(m * Derivative(z(t), t, t), k * (r - z(t)) - m * g)\n",
    "display(ode)\n",
    "\n",
    "# Define the initial conditions as symbolic expressions\n",
    "initial_conditions = {z(0): z0, Derivative(z(t), t).subs(t, 0): zdot0}\n",
    "\n",
    "# Solve the differential equation\n",
    "solution = dsolve(ode, z(t), ics=initial_conditions, simplify=True)\n",
    "\n",
    "omega, d1, d2 = symbols('omega d1 d2')\n",
    "\n",
    "# # Substitute sqrt(k/m) with omega in the solution\n",
    "# solution = solution.subs(sqrt(k/m), omega)\n",
    "\n",
    "# # Substitute z0 - r0 + g/omega**2 with d1 in the solution\n",
    "# solution = solution.subs(z0 - r_0 + g/omega**2, d1)\n",
    "\n",
    "# # Substitute zdot0/omega - (rT - r0)/(T*omega) with d2 in the solution\n",
    "# solution = solution.subs(zdot0/omega - (r_T - r_0)/(T*omega), d2)\n",
    "\n",
    "# Display the LaTeX-formatted solution\n",
    "latex_solution = latex(solution, mode='equation')\n",
    "display(Math(rf'{latex_solution}'))"
   ]
  },
  {
   "cell_type": "code",
   "execution_count": null,
   "id": "b01040e4",
   "metadata": {},
   "outputs": [],
   "source": []
  }
 ],
 "metadata": {
  "kernelspec": {
   "display_name": "Python 3 (ipykernel)",
   "language": "python",
   "name": "python3"
  },
  "language_info": {
   "codemirror_mode": {
    "name": "ipython",
    "version": 3
   },
   "file_extension": ".py",
   "mimetype": "text/x-python",
   "name": "python",
   "nbconvert_exporter": "python",
   "pygments_lexer": "ipython3",
   "version": "3.10.12"
  }
 },
 "nbformat": 4,
 "nbformat_minor": 5
}
