{
 "cells": [
  {
   "cell_type": "code",
   "execution_count": 1,
   "id": "b74a4cec",
   "metadata": {},
   "outputs": [
    {
     "data": {
      "text/latex": [
       "$\\displaystyle \\frac{1}{2} \\cdot \\sqrt{x^2 + y^2}$"
      ],
      "text/plain": [
       "<IPython.core.display.Math object>"
      ]
     },
     "metadata": {},
     "output_type": "display_data"
    }
   ],
   "source": [
    "from IPython.display import display, Math\n",
    "\n",
    "# LaTeX expression\n",
    "latex_expression = r'\\frac{1}{2} \\cdot \\sqrt{x^2 + y^2}'\n",
    "\n",
    "# Display LaTeX expression\n",
    "display(Math(latex_expression))\n"
   ]
  },
  {
   "cell_type": "code",
   "execution_count": 46,
   "metadata": {},
   "outputs": [
    {
     "data": {
      "text/latex": [
       "$\\displaystyle m \\frac{d^{2}}{d t^{2}} z{\\left(t \\right)} = - k z{\\left(t \\right)}$"
      ],
      "text/plain": [
       "Eq(m*Derivative(z(t), (t, 2)), -k*z(t))"
      ]
     },
     "metadata": {},
     "output_type": "display_data"
    },
    {
     "data": {
      "text/latex": [
       "$\\displaystyle z{\\left(t \\right)} = z_{0} \\cosh{\\left(t \\sqrt{- \\frac{k}{m}} \\right)} + \\frac{\\dot{z}_{0} \\sinh{\\left(t \\sqrt{- \\frac{k}{m}} \\right)}}{\\sqrt{- \\frac{k}{m}}}$"
      ],
      "text/plain": [
       "Eq(z(t), z0*cosh(t*sqrt(-k/m)) + zdot0*sinh(t*sqrt(-k/m))/sqrt(-k/m))"
      ]
     },
     "metadata": {},
     "output_type": "display_data"
    },
    {
     "data": {
      "text/plain": [
       "'\\\\begin{equation}z{\\\\left(t \\\\right)} = z_{0} \\\\cosh{\\\\left(t \\\\sqrt{- \\\\frac{k}{m}} \\\\right)} + \\\\frac{\\\\dot{z}_{0} \\\\sinh{\\\\left(t \\\\sqrt{- \\\\frac{k}{m}} \\\\right)}}{\\\\sqrt{- \\\\frac{k}{m}}}\\\\end{equation}'"
      ]
     },
     "metadata": {},
     "output_type": "display_data"
    }
   ],
   "source": [
    "from sympy import Function, dsolve, Eq, Derivative, symbols, latex, sqrt, collect, simplify, cos, sin, I\n",
    "from IPython.display import display\n",
    "\n",
    "# Define the variables and functions\n",
    "t, T, r_T, r_0, k, m, g, z0, zdot0 = symbols('t T r_T r_0 k m g z0 zdot0')\n",
    "z = Function('z')\n",
    "r = (t * (r_T - r_0) / T) + r_0\n",
    "\n",
    "# Define the homogeneous differential equation\n",
    "ode = Eq(m * Derivative(z(t), t, t), k * (-z(t)))\n",
    "display(ode)\n",
    "\n",
    "# Define the initial conditions as symbolic expressions\n",
    "initial_conditions = {z(0): z0, Derivative(z(t), t).subs(t, 0): zdot0}\n",
    "\n",
    "# Solve the differential equation\n",
    "solution = dsolve(ode, z(t), ics=initial_conditions, simplify=True)\n",
    "solution = solution.rewrite(cos).simplify()\n",
    "display(solution)\n",
    "\n",
    "latex_solution = latex(solution, mode='equation')\n",
    "display(latex_solution)"
   ]
  },
  {
   "cell_type": "code",
   "execution_count": 88,
   "id": "adaff40a",
   "metadata": {},
   "outputs": [
    {
     "data": {
      "text/latex": [
       "$\\displaystyle m \\frac{d^{2}}{d t^{2}} z{\\left(t \\right)} = - g m + k \\left(r_{0} - z{\\left(t \\right)} + \\frac{t \\left(- r_{0} + r_{T}\\right)}{T}\\right)$"
      ],
      "text/plain": [
       "Eq(m*Derivative(z(t), (t, 2)), -g*m + k*(r_0 - z(t) + t*(-r_0 + r_T)/T))"
      ]
     },
     "metadata": {},
     "output_type": "display_data"
    },
    {
     "data": {
      "text/latex": [
       "$\\displaystyle z{\\left(t \\right)} = \\frac{- T g m + T k \\left(C_{1} e^{- t \\sqrt{- \\frac{k}{m}}} + C_{2} e^{t \\sqrt{- \\frac{k}{m}}} + r_{0}\\right) - k t \\left(r_{0} - r_{T}\\right)}{T k}$"
      ],
      "text/plain": [
       "Eq(z(t), (-T*g*m + T*k*(C1*exp(-t*sqrt(-k/m)) + C2*exp(t*sqrt(-k/m)) + r_0) - k*t*(r_0 - r_T))/(T*k))"
      ]
     },
     "metadata": {},
     "output_type": "display_data"
    },
    {
     "data": {
      "text/latex": [
       "$\\displaystyle z{\\left(t \\right)} = \\frac{- T g m + T k r_{0} - k t \\left(r_{0} - r_{T}\\right) + \\frac{\\left(T g m - T k \\left(r_{0} - z_{0}\\right) - m \\sqrt{- \\frac{k}{m}} \\left(T \\dot{z}_{0} + r_{0} - r_{T}\\right)\\right) e^{t \\sqrt{- \\frac{k}{m}}}}{2} + \\frac{\\left(T k \\left(- r_{0} + z_{0}\\right) + T m \\left(g + \\dot{z}_{0} \\sqrt{- \\frac{k}{m}}\\right) + m \\sqrt{- \\frac{k}{m}} \\left(r_{0} - r_{T}\\right)\\right) e^{- t \\sqrt{- \\frac{k}{m}}}}{2}}{T k}$"
      ],
      "text/plain": [
       "Eq(z(t), (-T*g*m + T*k*r_0 - k*t*(r_0 - r_T) + (T*g*m - T*k*(r_0 - z0) - m*sqrt(-k/m)*(T*zdot0 + r_0 - r_T))*exp(t*sqrt(-k/m))/2 + (T*k*(-r_0 + z0) + T*m*(g + zdot0*sqrt(-k/m)) + m*sqrt(-k/m)*(r_0 - r_T))*exp(-t*sqrt(-k/m))/2)/(T*k))"
      ]
     },
     "metadata": {},
     "output_type": "display_data"
    },
    {
     "data": {
      "text/plain": [
       "'\\\\begin{equation}z{\\\\left(t \\\\right)} = \\\\frac{- T g m + T k r_{0} - k t \\\\left(r_{0} - r_{T}\\\\right) + \\\\frac{\\\\left(T g m - T k \\\\left(r_{0} - z_{0}\\\\right) - m \\\\sqrt{- \\\\frac{k}{m}} \\\\left(T \\\\dot{z}_{0} + r_{0} - r_{T}\\\\right)\\\\right) e^{t \\\\sqrt{- \\\\frac{k}{m}}}}{2} + \\\\frac{\\\\left(T k \\\\left(- r_{0} + z_{0}\\\\right) + T m \\\\left(g + \\\\dot{z}_{0} \\\\sqrt{- \\\\frac{k}{m}}\\\\right) + m \\\\sqrt{- \\\\frac{k}{m}} \\\\left(r_{0} - r_{T}\\\\right)\\\\right) e^{- t \\\\sqrt{- \\\\frac{k}{m}}}}{2}}{T k}\\\\end{equation}'"
      ]
     },
     "metadata": {},
     "output_type": "display_data"
    }
   ],
   "source": [
    "from sympy import Function, dsolve, Eq, Derivative, symbols, latex, sqrt, collect, simplify, cos, sin, I\n",
    "from IPython.display import display\n",
    "\n",
    "# Define the variables and functions\n",
    "t, T, r_T, r_0, k, m, g, z0, zdot0 = symbols('t T r_T r_0 k m g z0 zdot0')\n",
    "z = Function('z')\n",
    "r = (t * (r_T - r_0) / T) + r_0\n",
    "# r = symbols('r')\n",
    "\n",
    "# Define the differential equation\n",
    "ode = Eq(m * Derivative(z(t), t, t), k * (r - z(t)) - m * g)\n",
    "display(ode)\n",
    "\n",
    "# Define the initial conditions as symbolic expressions\n",
    "initial_conditions = {z(0): z0, Derivative(z(t), t).subs(t, 0): zdot0}\n",
    "\n",
    "# Solve the differential equation \n",
    "solution = dsolve(ode, z(t))\n",
    "solution = solution.expand().rewrite(cos).simplify()\n",
    "display(solution)\n",
    "\n",
    "# Solve the differential equation with initial conditions\n",
    "solution = dsolve(ode, z(t), ics=initial_conditions)\n",
    "\n",
    "solution = solution.rewrite(cos).simplify()\n",
    "display(solution)\n",
    "\n",
    "# omega, d1, d2 = symbols('omega d1 d2')\n",
    "\n",
    "# # Substitute sqrt(k/m) with omega in the solution\n",
    "# solution = solution.subs(sqrt(k/m), omega)\n",
    "\n",
    "# # Substitute z0 - r0 + g/omega**2 with d1 in the solution\n",
    "# solution = solution.subs(z0 - r_0 + g/omega**2, d1)\n",
    "\n",
    "# # Substitute zdot0/omega - (rT - r0)/(T*omega) with d2 in the solution\n",
    "# solution = solution.subs(zdot0/omega - (r_T - r_0)/(T*omega), d2)\n",
    "\n",
    "# Display the LaTeX-formatted solution\n",
    "latex_solution = latex(solution, mode='equation')\n",
    "display(latex_solution)\n",
    "# display(Math(rf'{latex_solution}'))"
   ]
  },
  {
   "cell_type": "code",
   "execution_count": 89,
   "id": "b01040e4",
   "metadata": {},
   "outputs": [
    {
     "data": {
      "text/latex": [
       "$\\displaystyle \\frac{z_{0}}{2} - \\frac{\\dot{z}_{0}}{2 \\sqrt{- \\frac{k}{m}}}$"
      ],
      "text/plain": [
       "z0/2 - zdot0/(2*sqrt(-k/m))"
      ]
     },
     "metadata": {},
     "output_type": "display_data"
    },
    {
     "data": {
      "text/latex": [
       "$\\displaystyle \\frac{z_{0}}{2} + \\frac{\\dot{z}_{0}}{2 \\sqrt{- \\frac{k}{m}}}$"
      ],
      "text/plain": [
       "z0/2 + zdot0/(2*sqrt(-k/m))"
      ]
     },
     "metadata": {},
     "output_type": "display_data"
    }
   ],
   "source": [
    "from sympy import Function, dsolve, Eq, Derivative, symbols, latex, sqrt, collect, simplify\n",
    "\n",
    "t, T, r_T, r_0, k, m, g, z0, zdot0 = symbols('t T r_T r_0 k m g z0 zdot0')\n",
    "alpha1 = sqrt(-k / m)\n",
    "alpha2 = -sqrt(-k / m)\n",
    "\n",
    "C2 = (zdot0 - alpha1*z0) / (alpha2 - alpha1)\n",
    "C1 = z0 - C2\n",
    "\n",
    "display(simplify(C2))\n",
    "display(simplify(C1))\n"
   ]
  }
 ],
 "metadata": {
  "kernelspec": {
   "display_name": "Python 3 (ipykernel)",
   "language": "python",
   "name": "python3"
  },
  "language_info": {
   "codemirror_mode": {
    "name": "ipython",
    "version": 3
   },
   "file_extension": ".py",
   "mimetype": "text/x-python",
   "name": "python",
   "nbconvert_exporter": "python",
   "pygments_lexer": "ipython3",
   "version": "3.10.12"
  }
 },
 "nbformat": 4,
 "nbformat_minor": 5
}
